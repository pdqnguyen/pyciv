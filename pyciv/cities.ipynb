{
 "cells": [
  {
   "cell_type": "code",
   "execution_count": 1,
   "metadata": {},
   "outputs": [
    {
     "name": "stdout",
     "output_type": "stream",
     "text": [
      "pygame 1.9.5\n",
      "Hello from the pygame community. https://www.pygame.org/contribute.html\n"
     ]
    }
   ],
   "source": [
    "import mapmaker\n",
    "import render\n",
    "import random"
   ]
  },
  {
   "cell_type": "code",
   "execution_count": 2,
   "metadata": {},
   "outputs": [
    {
     "name": "stdout",
     "output_type": "stream",
     "text": [
      "size: 84\n",
      "steps taken: 162\n",
      "size: 75\n",
      "steps taken: 136\n",
      "size: 51\n",
      "steps taken: 79\n",
      "size: 18\n",
      "steps taken: 27\n",
      "size: 37\n",
      "steps taken: 52\n",
      "num landmasses: 5\n",
      "attempted landmasses 5\n"
     ]
    }
   ],
   "source": [
    "board = mapmaker.make((50, 32))"
   ]
  },
  {
   "cell_type": "code",
   "execution_count": 5,
   "metadata": {},
   "outputs": [
    {
     "ename": "SystemExit",
     "evalue": "",
     "output_type": "error",
     "traceback": [
      "An exception has occurred, use %tb to see the full traceback.\n",
      "\u001b[1;31mSystemExit\u001b[0m\n"
     ]
    },
    {
     "name": "stderr",
     "output_type": "stream",
     "text": [
      "C:\\Users\\philippe\\Anaconda3\\lib\\site-packages\\IPython\\core\\interactiveshell.py:2971: UserWarning: To exit: use 'exit', 'quit', or Ctrl-D.\n",
      "  warn(\"To exit: use 'exit', 'quit', or Ctrl-D.\", stacklevel=1)\n"
     ]
    }
   ],
   "source": [
    "render.render(board)"
   ]
  },
  {
   "cell_type": "code",
   "execution_count": 2,
   "metadata": {},
   "outputs": [
    {
     "name": "stdout",
     "output_type": "stream",
     "text": [
      "10\n"
     ]
    }
   ],
   "source": [
    "min_city_sep = 4\n",
    "max_cities = 10\n",
    "cities = []\n",
    "max_iter = 10000\n",
    "i = 0\n",
    "open_tiles = [tile for tile in board]\n",
    "while len(cities) < max_cities and open_tiles and i < max_iter:\n",
    "    random.shuffle(open_tiles)\n",
    "    tile1 = open_tiles.pop(0)\n",
    "    if (tile1.base != 'ocean') and ('ice' not in tile1.features) and ('mountain' not in tile1.features) and (not tile1.city):\n",
    "        nearby_cities = False\n",
    "        nearby_tiles = []\n",
    "        for tile2 in open_tiles:\n",
    "            dx = tile2.x - tile1.x\n",
    "            dy = tile2.y - tile1.y\n",
    "            adx = abs(dx)\n",
    "            ady = abs(dy)\n",
    "            if ((dx < 0) ^ ((tile1.y & 1) == 1)):\n",
    "                adx = max(0, adx - (ady + 1) / 2)\n",
    "            else:\n",
    "                adx = max(0, adx - (ady) / 2)\n",
    "            d = adx + ady\n",
    "            if d < min_city_sep:\n",
    "                nearby_tiles.append(tile2)\n",
    "                if tile2.city:\n",
    "                    nearby_cities = True\n",
    "        open_tiles = [t for t in open_tiles if t not in nearby_tiles]\n",
    "        if not nearby_cities:\n",
    "            tile1.add_city('city', 'France')\n",
    "            cities.append(tile1.city)\n",
    "    i += 1\n",
    "print(len(cities))"
   ]
  },
  {
   "cell_type": "code",
   "execution_count": 3,
   "metadata": {},
   "outputs": [
    {
     "ename": "SystemExit",
     "evalue": "",
     "output_type": "error",
     "traceback": [
      "An exception has occurred, use %tb to see the full traceback.\n",
      "\u001b[1;31mSystemExit\u001b[0m\n"
     ]
    },
    {
     "name": "stderr",
     "output_type": "stream",
     "text": [
      "C:\\Users\\philippe\\Anaconda3\\lib\\site-packages\\IPython\\core\\interactiveshell.py:2971: UserWarning: To exit: use 'exit', 'quit', or Ctrl-D.\n",
      "  warn(\"To exit: use 'exit', 'quit', or Ctrl-D.\", stacklevel=1)\n"
     ]
    }
   ],
   "source": [
    "render.render(board)"
   ]
  },
  {
   "cell_type": "code",
   "execution_count": null,
   "metadata": {},
   "outputs": [],
   "source": []
  }
 ],
 "metadata": {
  "kernelspec": {
   "display_name": "Python 3",
   "language": "python",
   "name": "python3"
  },
  "language_info": {
   "codemirror_mode": {
    "name": "ipython",
    "version": 3
   },
   "file_extension": ".py",
   "mimetype": "text/x-python",
   "name": "python",
   "nbconvert_exporter": "python",
   "pygments_lexer": "ipython3",
   "version": "3.6.5"
  }
 },
 "nbformat": 4,
 "nbformat_minor": 2
}
